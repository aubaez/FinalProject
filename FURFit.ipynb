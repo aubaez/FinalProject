{
 "cells": [
  {
   "cell_type": "code",
   "execution_count": 1,
   "id": "56af8bcc",
   "metadata": {},
   "outputs": [
    {
     "data": {
      "application/javascript": [
       "\n",
       "try {\n",
       "require(['notebook/js/codecell'], function(codecell) {\n",
       "  codecell.CodeCell.options_default.highlight_modes[\n",
       "      'magic_text/x-csrc'] = {'reg':[/^%%microblaze/]};\n",
       "  Jupyter.notebook.events.one('kernel_ready.Kernel', function(){\n",
       "      Jupyter.notebook.get_cells().map(function(cell){\n",
       "          if (cell.cell_type == 'code'){ cell.auto_highlight(); } }) ;\n",
       "  });\n",
       "});\n",
       "} catch (e) {};\n"
      ]
     },
     "metadata": {},
     "output_type": "display_data"
    },
    {
     "data": {
      "application/javascript": [
       "\n",
       "try {\n",
       "require(['notebook/js/codecell'], function(codecell) {\n",
       "  codecell.CodeCell.options_default.highlight_modes[\n",
       "      'magic_text/x-csrc'] = {'reg':[/^%%pybind11/]};\n",
       "  Jupyter.notebook.events.one('kernel_ready.Kernel', function(){\n",
       "      Jupyter.notebook.get_cells().map(function(cell){\n",
       "          if (cell.cell_type == 'code'){ cell.auto_highlight(); } }) ;\n",
       "  });\n",
       "});\n",
       "} catch (e) {};\n"
      ]
     },
     "metadata": {},
     "output_type": "display_data"
    }
   ],
   "source": [
    "from pynq.overlays.base import BaseOverlay\n",
    "from IPython.core.interactiveshell import InteractiveShell\n",
    "import time\n",
    "from datetime import datetime\n",
    "import socket\n",
    "from datetime import datetime\n",
    "base = BaseOverlay(\"base.bit\")"
   ]
  },
  {
   "cell_type": "code",
   "execution_count": 2,
   "id": "bd54029a",
   "metadata": {},
   "outputs": [],
   "source": [
    "%%microblaze base.PMODB\n",
    "\n",
    "#include \"gpio.h\"\n",
    "#include \"pyprintf.h\"\n",
    "\n",
    "\n",
    "//Function to read tilt switch value from pin[3] of PMODB\n",
    "unsigned int read_tilt(){\n",
    "    gpio pin_in = gpio_open(3);\n",
    "    gpio_set_direction(pin_in, GPIO_IN);\n",
    "    return gpio_read(pin_in);\n",
    "}\n",
    "\n"
   ]
  },
  {
   "cell_type": "markdown",
   "id": "173807ca",
   "metadata": {},
   "source": [
    "### Send Server Tilt Switch Data for Processing\n",
    "Conditions: <br>\n",
    "> 1. Start when Button[0] is pushed\n",
    "        a. Connect with server \n",
    "        b. read data from tilt switch \n",
    "        c. Stream raw data to server\n",
    "> 2. Stop when Button[3] is pushed: \n",
    "        a. Stop streaming data \n",
    "        b. end connection with server \n"
   ]
  },
  {
   "cell_type": "code",
   "execution_count": 6,
   "id": "aa646d5d",
   "metadata": {
    "scrolled": false
   },
   "outputs": [
    {
     "name": "stdout",
     "output_type": "stream",
     "text": [
      "Connecting to Server...\n",
      "True\n",
      "Sending Tilt Switch Data(00:21:19): 1\n",
      "Sending Tilt Switch Data(00:21:19): 1\n",
      "Sending Tilt Switch Data(00:21:20): 1\n",
      "Sending Tilt Switch Data(00:21:20): 1\n",
      "Sending Tilt Switch Data(00:21:21): 1\n",
      "Sending Tilt Switch Data(00:21:21): 1\n",
      "Sending Tilt Switch Data(00:21:22): 1\n",
      "Sending Tilt Switch Data(00:21:22): 1\n",
      "Sending Tilt Switch Data(00:21:23): 1\n",
      "Sending Tilt Switch Data(00:21:24): 1\n",
      "Sending Tilt Switch Data(00:21:24): 1\n",
      "Sending Tilt Switch Data(00:21:25): 1\n",
      "Sending Tilt Switch Data(00:21:25): 1\n",
      "Sending Tilt Switch Data(00:21:26): 1\n",
      "Sending Tilt Switch Data(00:21:26): 1\n",
      "Sending Tilt Switch Data(00:21:27): 1\n",
      "Sending Tilt Switch Data(00:21:27): 1\n",
      "Sending Tilt Switch Data(00:21:28): 1\n",
      "Sending Tilt Switch Data(00:21:28): 1\n",
      "Sending Tilt Switch Data(00:21:29): 1\n",
      "Sending Tilt Switch Data(00:21:29): 1\n",
      "Sending Tilt Switch Data(00:21:30): 1\n",
      "Sending Tilt Switch Data(00:21:30): 1\n",
      "Sending Tilt Switch Data(00:21:31): 1\n",
      "Sending Tilt Switch Data(00:21:31): 1\n",
      "Sending Tilt Switch Data(00:21:32): 1\n",
      "Sending Tilt Switch Data(00:21:32): 1\n",
      "Sending Tilt Switch Data(00:21:33): 1\n",
      "Sending Tilt Switch Data(00:21:33): 1\n",
      "Sending Tilt Switch Data(00:21:34): 1\n",
      "Sending Tilt Switch Data(00:21:34): 1\n",
      "Sending Tilt Switch Data(00:21:35): 1\n",
      "Sending Tilt Switch Data(00:21:35): 1\n",
      "Sending Tilt Switch Data(00:21:36): 1\n",
      "Sending Tilt Switch Data(00:21:36): 1\n",
      "Sending Tilt Switch Data(00:21:37): 1\n",
      "Sending Tilt Switch Data(00:21:37): 1\n",
      "Sending Tilt Switch Data(00:21:38): 1\n",
      "Sending Tilt Switch Data(00:21:38): 1\n",
      "Sending Tilt Switch Data(00:21:39): 1\n",
      "Sending Tilt Switch Data(00:21:39): 1\n",
      "Sending Tilt Switch Data(00:21:40): 1\n",
      "Sending Tilt Switch Data(00:21:40): 1\n",
      "Sending Tilt Switch Data(00:21:41): 1\n",
      "Sending Tilt Switch Data(00:21:41): 1\n",
      "Sending Tilt Switch Data(00:21:42): 1\n",
      "Sending Tilt Switch Data(00:21:42): 1\n",
      "Sending Tilt Switch Data(00:21:43): 1\n",
      "Sending Tilt Switch Data(00:21:43): 1\n",
      "Sending Tilt Switch Data(00:21:44): 1\n",
      "Sending Tilt Switch Data(00:21:44): 1\n",
      "Sending Tilt Switch Data(00:21:45): 1\n",
      "Sending Tilt Switch Data(00:21:45): 1\n",
      "Sending Tilt Switch Data(00:21:46): 1\n",
      "Sending Tilt Switch Data(00:21:46): 1\n",
      "Sending Tilt Switch Data(00:21:47): 1\n",
      "Sending Tilt Switch Data(00:21:47): 1\n",
      "Sending Tilt Switch Data(00:21:48): 1\n",
      "Sending Tilt Switch Data(00:21:48): 1\n",
      "Sending Tilt Switch Data(00:21:49): 1\n",
      "Sending Tilt Switch Data(00:21:49): 1\n",
      "Sending Tilt Switch Data(00:21:50): 1\n",
      "Sending Tilt Switch Data(00:21:50): 1\n",
      "Sending Tilt Switch Data(00:21:51): 1\n",
      "Sending Tilt Switch Data(00:21:51): 1\n",
      "Sending Tilt Switch Data(00:21:52): 1\n",
      "Sending Tilt Switch Data(00:21:52): 1\n",
      "Sending Tilt Switch Data(00:21:53): 1\n",
      "Sending Tilt Switch Data(00:21:53): 1\n",
      "Sending Tilt Switch Data(00:21:54): 1\n",
      "Sending Tilt Switch Data(00:21:54): 1\n",
      "Sending Tilt Switch Data(00:21:55): 1\n",
      "Sending Tilt Switch Data(00:21:55): 1\n",
      "Sending Tilt Switch Data(00:21:56): 1\n",
      "Sending Tilt Switch Data(00:21:56): 1\n",
      "Sending Tilt Switch Data(00:21:57): 1\n",
      "Sending Tilt Switch Data(00:21:57): 1\n",
      "Sending Tilt Switch Data(00:21:58): 1\n",
      "Sending Tilt Switch Data(00:21:58): 1\n",
      "Sending Tilt Switch Data(00:21:59): 1\n",
      "Sending Tilt Switch Data(00:21:59): 1\n",
      "Sending Tilt Switch Data(00:22:00): 1\n",
      "Sending Tilt Switch Data(00:22:00): 1\n",
      "Sending Tilt Switch Data(00:22:01): 1\n",
      "Sending Tilt Switch Data(00:22:01): 1\n",
      "Sending Tilt Switch Data(00:22:02): 1\n",
      "Sending Tilt Switch Data(00:22:02): 1\n",
      "Sending Tilt Switch Data(00:22:03): 1\n",
      "Sending Tilt Switch Data(00:22:03): 1\n",
      "Sending Tilt Switch Data(00:22:04): 1\n",
      "Sending Tilt Switch Data(00:22:04): 1\n",
      "Sending Tilt Switch Data(00:22:05): 1\n",
      "Button[3] Pressed: Connection Closed\n"
     ]
    }
   ],
   "source": [
    "cond = True\n",
    "isConnected = False\n",
    "sock = socket.socket(socket.AF_INET, socket.SOCK_STREAM)\n",
    "while cond:\n",
    "    if base.buttons[0].read() != 0 and isConnected == False:\n",
    "        time.sleep(1)\n",
    "        sock.connect(('192.168.2.1', 12345))\n",
    "        print('Connecting to Server...')\n",
    "        isConnected = True\n",
    "        print (isConnected)\n",
    "    while isConnected:\n",
    "        if base.buttons[3].read() != 1:\n",
    "            \n",
    "            data = read_tilt()\n",
    "            print('Sending Tilt Switch Data({}): {}'.format(time.strftime('%H:%M:%S'), data))\n",
    "            sock.send(str(data).encode('utf8'))\n",
    "            time.sleep(.5)\n",
    "            \n",
    "\n",
    "        else:\n",
    "            print('Button[3] Pressed: Connection Closed')\n",
    "            sock.shutdown(1)\n",
    "            sock.close()\n",
    "            isConnected = False\n",
    "            cond = False\n"
   ]
  },
  {
   "cell_type": "code",
   "execution_count": null,
   "id": "85f655ab",
   "metadata": {},
   "outputs": [],
   "source": []
  },
  {
   "cell_type": "code",
   "execution_count": null,
   "id": "8335fca5",
   "metadata": {},
   "outputs": [],
   "source": []
  }
 ],
 "metadata": {
  "kernelspec": {
   "display_name": "Python 3",
   "language": "python",
   "name": "python3"
  },
  "language_info": {
   "codemirror_mode": {
    "name": "ipython",
    "version": 3
   },
   "file_extension": ".py",
   "mimetype": "text/x-python",
   "name": "python",
   "nbconvert_exporter": "python",
   "pygments_lexer": "ipython3",
   "version": "3.8.2"
  }
 },
 "nbformat": 4,
 "nbformat_minor": 5
}
